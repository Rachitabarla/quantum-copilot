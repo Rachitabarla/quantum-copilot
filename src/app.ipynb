{
 "cells": [
  {
   "cell_type": "code",
   "execution_count": 1,
   "metadata": {},
   "outputs": [],
   "source": [
    "from langchain.prompts import ChatPromptTemplate, PromptTemplate, HumanMessagePromptTemplate\n",
    "from langchain.document_loaders import PyPDFLoader, TextLoader\n",
    "from langchain.vectorstores import FAISS\n",
    "from langchain.text_splitter import CharacterTextSplitter\n",
    "from langchain.llms import OpenAI\n",
    "import pandas as pd\n",
    "from langchain.embeddings import OpenAIEmbeddings\n",
    "from langchain.chains import RetrievalQA\n",
    "from pydantic import BaseModel\n",
    "from langchain.chat_models import ChatOpenAI \n",
    "\n",
    "from dotenv import load_dotenv\n",
    "import pdb\n"
   ]
  },
  {
   "cell_type": "code",
   "execution_count": 2,
   "metadata": {},
   "outputs": [
    {
     "name": "stdout",
     "output_type": "stream",
     "text": [
      "Requirement already satisfied: chardet in c:\\python312\\lib\\site-packages (5.2.0)\n"
     ]
    },
    {
     "name": "stderr",
     "output_type": "stream",
     "text": [
      "\n",
      "[notice] A new release of pip is available: 23.2.1 -> 24.0\n",
      "[notice] To update, run: C:\\Python312\\python.exe -m pip install --upgrade pip\n"
     ]
    }
   ],
   "source": [
    "!pip install chardet"
   ]
  },
  {
   "cell_type": "code",
   "execution_count": 3,
   "metadata": {},
   "outputs": [
    {
     "data": {
      "text/plain": [
       "True"
      ]
     },
     "execution_count": 3,
     "metadata": {},
     "output_type": "execute_result"
    }
   ],
   "source": [
    "load_dotenv()"
   ]
  },
  {
   "cell_type": "code",
   "execution_count": 4,
   "metadata": {},
   "outputs": [
    {
     "ename": "ModuleNotFoundError",
     "evalue": "No module named 'chardet'",
     "output_type": "error",
     "traceback": [
      "\u001b[1;31m---------------------------------------------------------------------------\u001b[0m",
      "\u001b[1;31mModuleNotFoundError\u001b[0m                       Traceback (most recent call last)",
      "\u001b[1;32md:\\quantum-copilot\\src\\app.ipynb Cell 4\u001b[0m line \u001b[0;36m<cell line: 1>\u001b[1;34m()\u001b[0m\n\u001b[1;32m----> <a href='vscode-notebook-cell:/d%3A/quantum-copilot/src/app.ipynb#X23sZmlsZQ%3D%3D?line=0'>1</a>\u001b[0m \u001b[39mimport\u001b[39;00m \u001b[39mchardet\u001b[39;00m\n",
      "\u001b[1;31mModuleNotFoundError\u001b[0m: No module named 'chardet'"
     ]
    }
   ],
   "source": [
    "import chardet"
   ]
  },
  {
   "cell_type": "code",
   "execution_count": 37,
   "metadata": {},
   "outputs": [],
   "source": [
    "llm = ChatOpenAI(model=\"gpt-3.5-turbo\",temperature=0)\n",
    "embeddings = OpenAIEmbeddings(deployment=\"embeddings model\", chunk_size=1) "
   ]
  },
  {
   "cell_type": "code",
   "execution_count": 28,
   "metadata": {},
   "outputs": [],
   "source": [
    "def load_pdf(pdf):\n",
    "    ''' This utility is used to convert the pdfs into chunks of texts '''\n",
    "    #loader = PyPDFLoader(pdf)\n",
    "    loader = TextLoader(pdf,encoding='utf-8')\n",
    "    documents = loader.load()\n",
    "\n",
    "    text_splitter = CharacterTextSplitter(chunk_size = 500, chunk_overlap = 200)\n",
    "    texts = text_splitter.split_documents(documents)\n",
    "    return texts\n",
    "    "
   ]
  },
  {
   "cell_type": "code",
   "execution_count": null,
   "metadata": {},
   "outputs": [],
   "source": [
    "def detect_encoding(file_path):\n",
    "    with open(file_path, 'rb') as f:\n",
    "        rawdata = f.read()\n",
    "    result = chardet.detect(rawdata)\n",
    "    return result['encoding']"
   ]
  },
  {
   "cell_type": "code",
   "execution_count": 31,
   "metadata": {},
   "outputs": [
    {
     "ename": "RuntimeError",
     "evalue": "Error loading ../Ethereum Foundation – Hands on Lab.docx",
     "output_type": "error",
     "traceback": [
      "\u001b[1;31m---------------------------------------------------------------------------\u001b[0m",
      "\u001b[1;31mUnicodeDecodeError\u001b[0m                        Traceback (most recent call last)",
      "File \u001b[1;32mc:\\Users\\DELL\\AppData\\Local\\Programs\\Python\\Python310\\lib\\site-packages\\langchain\\document_loaders\\text.py:41\u001b[0m, in \u001b[0;36mTextLoader.load\u001b[1;34m(self)\u001b[0m\n\u001b[0;32m     40\u001b[0m     \u001b[39mwith\u001b[39;00m \u001b[39mopen\u001b[39m(\u001b[39mself\u001b[39m\u001b[39m.\u001b[39mfile_path, encoding\u001b[39m=\u001b[39m\u001b[39mself\u001b[39m\u001b[39m.\u001b[39mencoding) \u001b[39mas\u001b[39;00m f:\n\u001b[1;32m---> 41\u001b[0m         text \u001b[39m=\u001b[39m f\u001b[39m.\u001b[39;49mread()\n\u001b[0;32m     42\u001b[0m \u001b[39mexcept\u001b[39;00m \u001b[39mUnicodeDecodeError\u001b[39;00m \u001b[39mas\u001b[39;00m e:\n",
      "File \u001b[1;32mc:\\Users\\DELL\\AppData\\Local\\Programs\\Python\\Python310\\lib\\codecs.py:322\u001b[0m, in \u001b[0;36mBufferedIncrementalDecoder.decode\u001b[1;34m(self, input, final)\u001b[0m\n\u001b[0;32m    321\u001b[0m data \u001b[39m=\u001b[39m \u001b[39mself\u001b[39m\u001b[39m.\u001b[39mbuffer \u001b[39m+\u001b[39m \u001b[39minput\u001b[39m\n\u001b[1;32m--> 322\u001b[0m (result, consumed) \u001b[39m=\u001b[39m \u001b[39mself\u001b[39;49m\u001b[39m.\u001b[39;49m_buffer_decode(data, \u001b[39mself\u001b[39;49m\u001b[39m.\u001b[39;49merrors, final)\n\u001b[0;32m    323\u001b[0m \u001b[39m# keep undecoded input until the next call\u001b[39;00m\n",
      "\u001b[1;31mUnicodeDecodeError\u001b[0m: 'utf-8' codec can't decode byte 0xd3 in position 14: invalid continuation byte",
      "\nThe above exception was the direct cause of the following exception:\n",
      "\u001b[1;31mRuntimeError\u001b[0m                              Traceback (most recent call last)",
      "\u001b[1;32md:\\quantum-copilot\\src\\app.ipynb Cell 6\u001b[0m line \u001b[0;36m<cell line: 1>\u001b[1;34m()\u001b[0m\n\u001b[1;32m----> <a href='vscode-notebook-cell:/d%3A/quantum-copilot/src/app.ipynb#W6sZmlsZQ%3D%3D?line=0'>1</a>\u001b[0m pdf_text \u001b[39m=\u001b[39m load_pdf(\u001b[39m\"\u001b[39;49m\u001b[39m../Ethereum Foundation – Hands on Lab.docx\u001b[39;49m\u001b[39m\"\u001b[39;49m)\n\u001b[0;32m      <a href='vscode-notebook-cell:/d%3A/quantum-copilot/src/app.ipynb#W6sZmlsZQ%3D%3D?line=1'>2</a>\u001b[0m doc_search_pdf \u001b[39m=\u001b[39m FAISS\u001b[39m.\u001b[39mfrom_documents(documents\u001b[39m=\u001b[39mpdf_text,embeddings\u001b[39m=\u001b[39membeddings)\n\u001b[0;32m      <a href='vscode-notebook-cell:/d%3A/quantum-copilot/src/app.ipynb#W6sZmlsZQ%3D%3D?line=2'>3</a>\u001b[0m doc_search_pdf\u001b[39m.\u001b[39msave_local(\u001b[39m\"\u001b[39m\u001b[39m./fiass_db/\u001b[39m\u001b[39m\"\u001b[39m\u001b[39m+\u001b[39m\u001b[39m\"\u001b[39m\u001b[39mQuantum Computing.pdf\u001b[39m\u001b[39m\"\u001b[39m)\n",
      "\u001b[1;32md:\\quantum-copilot\\src\\app.ipynb Cell 6\u001b[0m line \u001b[0;36mload_pdf\u001b[1;34m(pdf)\u001b[0m\n\u001b[0;32m      <a href='vscode-notebook-cell:/d%3A/quantum-copilot/src/app.ipynb#W6sZmlsZQ%3D%3D?line=2'>3</a>\u001b[0m \u001b[39m#loader = PyPDFLoader(pdf)\u001b[39;00m\n\u001b[0;32m      <a href='vscode-notebook-cell:/d%3A/quantum-copilot/src/app.ipynb#W6sZmlsZQ%3D%3D?line=3'>4</a>\u001b[0m loader \u001b[39m=\u001b[39m TextLoader(pdf,encoding\u001b[39m=\u001b[39m\u001b[39m'\u001b[39m\u001b[39mutf-8\u001b[39m\u001b[39m'\u001b[39m)\n\u001b[1;32m----> <a href='vscode-notebook-cell:/d%3A/quantum-copilot/src/app.ipynb#W6sZmlsZQ%3D%3D?line=4'>5</a>\u001b[0m documents \u001b[39m=\u001b[39m loader\u001b[39m.\u001b[39;49mload()\n\u001b[0;32m      <a href='vscode-notebook-cell:/d%3A/quantum-copilot/src/app.ipynb#W6sZmlsZQ%3D%3D?line=6'>7</a>\u001b[0m text_splitter \u001b[39m=\u001b[39m CharacterTextSplitter(chunk_size \u001b[39m=\u001b[39m \u001b[39m500\u001b[39m, chunk_overlap \u001b[39m=\u001b[39m \u001b[39m200\u001b[39m)\n\u001b[0;32m      <a href='vscode-notebook-cell:/d%3A/quantum-copilot/src/app.ipynb#W6sZmlsZQ%3D%3D?line=7'>8</a>\u001b[0m texts \u001b[39m=\u001b[39m text_splitter\u001b[39m.\u001b[39msplit_documents(documents)\n",
      "File \u001b[1;32mc:\\Users\\DELL\\AppData\\Local\\Programs\\Python\\Python310\\lib\\site-packages\\langchain\\document_loaders\\text.py:54\u001b[0m, in \u001b[0;36mTextLoader.load\u001b[1;34m(self)\u001b[0m\n\u001b[0;32m     52\u001b[0m                 \u001b[39mcontinue\u001b[39;00m\n\u001b[0;32m     53\u001b[0m     \u001b[39melse\u001b[39;00m:\n\u001b[1;32m---> 54\u001b[0m         \u001b[39mraise\u001b[39;00m \u001b[39mRuntimeError\u001b[39;00m(\u001b[39mf\u001b[39m\u001b[39m\"\u001b[39m\u001b[39mError loading \u001b[39m\u001b[39m{\u001b[39;00m\u001b[39mself\u001b[39m\u001b[39m.\u001b[39mfile_path\u001b[39m}\u001b[39;00m\u001b[39m\"\u001b[39m) \u001b[39mfrom\u001b[39;00m \u001b[39me\u001b[39;00m\n\u001b[0;32m     55\u001b[0m \u001b[39mexcept\u001b[39;00m \u001b[39mException\u001b[39;00m \u001b[39mas\u001b[39;00m e:\n\u001b[0;32m     56\u001b[0m     \u001b[39mraise\u001b[39;00m \u001b[39mRuntimeError\u001b[39;00m(\u001b[39mf\u001b[39m\u001b[39m\"\u001b[39m\u001b[39mError loading \u001b[39m\u001b[39m{\u001b[39;00m\u001b[39mself\u001b[39m\u001b[39m.\u001b[39mfile_path\u001b[39m}\u001b[39;00m\u001b[39m\"\u001b[39m) \u001b[39mfrom\u001b[39;00m \u001b[39me\u001b[39;00m\n",
      "\u001b[1;31mRuntimeError\u001b[0m: Error loading ../Ethereum Foundation – Hands on Lab.docx"
     ]
    }
   ],
   "source": [
    "pdf_text = load_pdf(\"../Ethereum Foundation – Hands on Lab.docx\")\n",
    "doc_search_pdf = FAISS.from_documents(documents=pdf_text,embeddings=embeddings)\n",
    "doc_search_pdf.save_local(\"./fiass_db/\"+\"Quantum Computing.pdf\")"
   ]
  },
  {
   "cell_type": "code",
   "execution_count": 58,
   "metadata": {},
   "outputs": [
    {
     "ename": "ImportError",
     "evalue": "Could not import faiss python package. Please install it with `pip install faiss` or `pip install faiss-cpu` (depending on Python version).",
     "output_type": "error",
     "traceback": [
      "\u001b[1;31m---------------------------------------------------------------------------\u001b[0m",
      "\u001b[1;31mModuleNotFoundError\u001b[0m                       Traceback (most recent call last)",
      "File \u001b[1;32mc:\\Users\\DELL\\AppData\\Local\\Programs\\Python\\Python310\\lib\\site-packages\\langchain\\vectorstores\\faiss.py:38\u001b[0m, in \u001b[0;36mdependable_faiss_import\u001b[1;34m(no_avx2)\u001b[0m\n\u001b[0;32m     37\u001b[0m     \u001b[39melse\u001b[39;00m:\n\u001b[1;32m---> 38\u001b[0m         \u001b[39mimport\u001b[39;00m \u001b[39mfaiss\u001b[39;00m\n\u001b[0;32m     39\u001b[0m \u001b[39mexcept\u001b[39;00m \u001b[39mImportError\u001b[39;00m:\n",
      "\u001b[1;31mModuleNotFoundError\u001b[0m: No module named 'faiss'",
      "\nDuring handling of the above exception, another exception occurred:\n",
      "\u001b[1;31mImportError\u001b[0m                               Traceback (most recent call last)",
      "\u001b[1;32md:\\quantum-copilot\\src\\app.ipynb Cell 6\u001b[0m line \u001b[0;36m<cell line: 1>\u001b[1;34m()\u001b[0m\n\u001b[1;32m----> <a href='vscode-notebook-cell:/d%3A/quantum-copilot/src/app.ipynb#X16sZmlsZQ%3D%3D?line=0'>1</a>\u001b[0m persisted_vectorstore \u001b[39m=\u001b[39m FAISS\u001b[39m.\u001b[39;49mload_local(\u001b[39m\"\u001b[39;49m\u001b[39m./fiass_db/\u001b[39;49m\u001b[39m\"\u001b[39;49m\u001b[39m+\u001b[39;49m\u001b[39m\"\u001b[39;49m\u001b[39mQuantum Computing.pdf\u001b[39;49m\u001b[39m\"\u001b[39;49m, embeddings)\n\u001b[0;32m      <a href='vscode-notebook-cell:/d%3A/quantum-copilot/src/app.ipynb#X16sZmlsZQ%3D%3D?line=2'>3</a>\u001b[0m     \u001b[39m# Use RetrievalQA chain for orchestration\u001b[39;00m\n\u001b[0;32m      <a href='vscode-notebook-cell:/d%3A/quantum-copilot/src/app.ipynb#X16sZmlsZQ%3D%3D?line=3'>4</a>\u001b[0m qa \u001b[39m=\u001b[39m RetrievalQA\u001b[39m.\u001b[39mfrom_chain_type(llm\u001b[39m=\u001b[39mllm, chain_type\u001b[39m=\u001b[39m\u001b[39m\"\u001b[39m\u001b[39mstuff\u001b[39m\u001b[39m\"\u001b[39m, retriever\u001b[39m=\u001b[39mpersisted_vectorstore\u001b[39m.\u001b[39mas_retriever())\n",
      "File \u001b[1;32mc:\\Users\\DELL\\AppData\\Local\\Programs\\Python\\Python310\\lib\\site-packages\\langchain\\vectorstores\\faiss.py:635\u001b[0m, in \u001b[0;36mFAISS.load_local\u001b[1;34m(cls, folder_path, embeddings, index_name)\u001b[0m\n\u001b[0;32m    633\u001b[0m path \u001b[39m=\u001b[39m Path(folder_path)\n\u001b[0;32m    634\u001b[0m \u001b[39m# load index separately since it is not picklable\u001b[39;00m\n\u001b[1;32m--> 635\u001b[0m faiss \u001b[39m=\u001b[39m dependable_faiss_import()\n\u001b[0;32m    636\u001b[0m index \u001b[39m=\u001b[39m faiss\u001b[39m.\u001b[39mread_index(\n\u001b[0;32m    637\u001b[0m     \u001b[39mstr\u001b[39m(path \u001b[39m/\u001b[39m \u001b[39m\"\u001b[39m\u001b[39m{index_name}\u001b[39;00m\u001b[39m.faiss\u001b[39m\u001b[39m\"\u001b[39m\u001b[39m.\u001b[39mformat(index_name\u001b[39m=\u001b[39mindex_name))\n\u001b[0;32m    638\u001b[0m )\n\u001b[0;32m    640\u001b[0m \u001b[39m# load docstore and index_to_docstore_id\u001b[39;00m\n",
      "File \u001b[1;32mc:\\Users\\DELL\\AppData\\Local\\Programs\\Python\\Python310\\lib\\site-packages\\langchain\\vectorstores\\faiss.py:40\u001b[0m, in \u001b[0;36mdependable_faiss_import\u001b[1;34m(no_avx2)\u001b[0m\n\u001b[0;32m     38\u001b[0m         \u001b[39mimport\u001b[39;00m \u001b[39mfaiss\u001b[39;00m\n\u001b[0;32m     39\u001b[0m \u001b[39mexcept\u001b[39;00m \u001b[39mImportError\u001b[39;00m:\n\u001b[1;32m---> 40\u001b[0m     \u001b[39mraise\u001b[39;00m \u001b[39mImportError\u001b[39;00m(\n\u001b[0;32m     41\u001b[0m         \u001b[39m\"\u001b[39m\u001b[39mCould not import faiss python package. \u001b[39m\u001b[39m\"\u001b[39m\n\u001b[0;32m     42\u001b[0m         \u001b[39m\"\u001b[39m\u001b[39mPlease install it with `pip install faiss` \u001b[39m\u001b[39m\"\u001b[39m\n\u001b[0;32m     43\u001b[0m         \u001b[39m\"\u001b[39m\u001b[39mor `pip install faiss-cpu` (depending on Python version).\u001b[39m\u001b[39m\"\u001b[39m\n\u001b[0;32m     44\u001b[0m     )\n\u001b[0;32m     45\u001b[0m \u001b[39mreturn\u001b[39;00m faiss\n",
      "\u001b[1;31mImportError\u001b[0m: Could not import faiss python package. Please install it with `pip install faiss` or `pip install faiss-cpu` (depending on Python version)."
     ]
    }
   ],
   "source": [
    "persisted_vectorstore = FAISS.load_local(\"./fiass_db/\"+\"Quantum Computing.pdf\", embeddings)\n",
    "\n",
    "    # Use RetrievalQA chain for orchestration\n",
    "qa = RetrievalQA.from_chain_type(llm=llm, chain_type=\"stuff\", retriever=persisted_vectorstore.as_retriever())\n",
    "result = qa.run(\"What is Quantum Computing\")\n",
    "print(result)"
   ]
  },
  {
   "cell_type": "code",
   "execution_count": 39,
   "metadata": {},
   "outputs": [],
   "source": [
    "def query_pdf(query):\n",
    "    # Load document using PyPDFLoader document loader\n",
    "    loader = PyPDFLoader(\"Downloads/Quantum Computing.pdf\")\n",
    "    documents = loader.load()\n",
    "    # Split document in chunks\n",
    "    text_splitter = CharacterTextSplitter(chunk_size=1000, chunk_overlap=30, separator=\"\\n\")\n",
    "    docs = text_splitter.split_documents(documents=documents)\n",
    "\n",
    "    embeddings = OpenAIEmbeddings()\n",
    "    # Create vectors\n",
    "    vectorstore = FAISS.from_documents(docs, embeddings)\n",
    "    # Persist the vectors locally on disk\n",
    "    vectorstore.save_local(\"faiss_index_constitution\")\n",
    "\n",
    "    # Load from local storage\n",
    "    persisted_vectorstore = FAISS.load_local(\"faiss_index_constitution\", embeddings)\n",
    "\n",
    "    # Use RetrievalQA chain for orchestration\n",
    "    qa = RetrievalQA.from_chain_type(llm=llm, chain_type=\"stuff\", retriever=persisted_vectorstore.as_retriever())\n",
    "    result = qa.run(query)\n",
    "    print(result)\n",
    "\n"
   ]
  },
  {
   "cell_type": "code",
   "execution_count": null,
   "metadata": {},
   "outputs": [],
   "source": [
    "\n",
    "\n"
   ]
  },
  {
   "cell_type": "code",
   "execution_count": 40,
   "metadata": {},
   "outputs": [],
   "source": [
    "\n",
    "def main():\n",
    "    query = input(\"Type in your query: \\n\")\n",
    "    while query != \"exit\":\n",
    "        query_pdf(query)\n",
    "        query = input(\"Type in your query: \\n\")"
   ]
  },
  {
   "cell_type": "code",
   "execution_count": 41,
   "metadata": {},
   "outputs": [
    {
     "ename": "ImportError",
     "evalue": "pypdf package not found, please install it with `pip install pypdf`",
     "output_type": "error",
     "traceback": [
      "\u001b[1;31m---------------------------------------------------------------------------\u001b[0m",
      "\u001b[1;31mModuleNotFoundError\u001b[0m                       Traceback (most recent call last)",
      "File \u001b[1;32mc:\\Users\\DELL\\AppData\\Local\\Programs\\Python\\Python310\\lib\\site-packages\\langchain\\document_loaders\\pdf.py:108\u001b[0m, in \u001b[0;36mPyPDFLoader.__init__\u001b[1;34m(self, file_path, password)\u001b[0m\n\u001b[0;32m    107\u001b[0m \u001b[39mtry\u001b[39;00m:\n\u001b[1;32m--> 108\u001b[0m     \u001b[39mimport\u001b[39;00m \u001b[39mpypdf\u001b[39;00m  \u001b[39m# noqa:F401\u001b[39;00m\n\u001b[0;32m    109\u001b[0m \u001b[39mexcept\u001b[39;00m \u001b[39mImportError\u001b[39;00m:\n",
      "\u001b[1;31mModuleNotFoundError\u001b[0m: No module named 'pypdf'",
      "\nDuring handling of the above exception, another exception occurred:\n",
      "\u001b[1;31mImportError\u001b[0m                               Traceback (most recent call last)",
      "\u001b[1;32md:\\quantum-copilot\\src\\app.ipynb Cell 9\u001b[0m line \u001b[0;36m<cell line: 1>\u001b[1;34m()\u001b[0m\n\u001b[1;32m----> <a href='vscode-notebook-cell:/d%3A/quantum-copilot/src/app.ipynb#X14sZmlsZQ%3D%3D?line=0'>1</a>\u001b[0m main()\n",
      "\u001b[1;32md:\\quantum-copilot\\src\\app.ipynb Cell 9\u001b[0m line \u001b[0;36mmain\u001b[1;34m()\u001b[0m\n\u001b[0;32m      <a href='vscode-notebook-cell:/d%3A/quantum-copilot/src/app.ipynb#X14sZmlsZQ%3D%3D?line=1'>2</a>\u001b[0m query \u001b[39m=\u001b[39m \u001b[39minput\u001b[39m(\u001b[39m\"\u001b[39m\u001b[39mType in your query: \u001b[39m\u001b[39m\\n\u001b[39;00m\u001b[39m\"\u001b[39m)\n\u001b[0;32m      <a href='vscode-notebook-cell:/d%3A/quantum-copilot/src/app.ipynb#X14sZmlsZQ%3D%3D?line=2'>3</a>\u001b[0m \u001b[39mwhile\u001b[39;00m query \u001b[39m!=\u001b[39m \u001b[39m\"\u001b[39m\u001b[39mexit\u001b[39m\u001b[39m\"\u001b[39m:\n\u001b[1;32m----> <a href='vscode-notebook-cell:/d%3A/quantum-copilot/src/app.ipynb#X14sZmlsZQ%3D%3D?line=3'>4</a>\u001b[0m     query_pdf(query)\n\u001b[0;32m      <a href='vscode-notebook-cell:/d%3A/quantum-copilot/src/app.ipynb#X14sZmlsZQ%3D%3D?line=4'>5</a>\u001b[0m     query \u001b[39m=\u001b[39m \u001b[39minput\u001b[39m(\u001b[39m\"\u001b[39m\u001b[39mType in your query: \u001b[39m\u001b[39m\\n\u001b[39;00m\u001b[39m\"\u001b[39m)\n",
      "\u001b[1;32md:\\quantum-copilot\\src\\app.ipynb Cell 9\u001b[0m line \u001b[0;36mquery_pdf\u001b[1;34m(query)\u001b[0m\n\u001b[0;32m      <a href='vscode-notebook-cell:/d%3A/quantum-copilot/src/app.ipynb#X14sZmlsZQ%3D%3D?line=0'>1</a>\u001b[0m \u001b[39mdef\u001b[39;00m \u001b[39mquery_pdf\u001b[39m(query):\n\u001b[0;32m      <a href='vscode-notebook-cell:/d%3A/quantum-copilot/src/app.ipynb#X14sZmlsZQ%3D%3D?line=1'>2</a>\u001b[0m     \u001b[39m# Load document using PyPDFLoader document loader\u001b[39;00m\n\u001b[1;32m----> <a href='vscode-notebook-cell:/d%3A/quantum-copilot/src/app.ipynb#X14sZmlsZQ%3D%3D?line=2'>3</a>\u001b[0m     loader \u001b[39m=\u001b[39m PyPDFLoader(\u001b[39m\"\u001b[39;49m\u001b[39mDownloads/Quantum Computing.pdf\u001b[39;49m\u001b[39m\"\u001b[39;49m)\n\u001b[0;32m      <a href='vscode-notebook-cell:/d%3A/quantum-copilot/src/app.ipynb#X14sZmlsZQ%3D%3D?line=3'>4</a>\u001b[0m     documents \u001b[39m=\u001b[39m loader\u001b[39m.\u001b[39mload()\n\u001b[0;32m      <a href='vscode-notebook-cell:/d%3A/quantum-copilot/src/app.ipynb#X14sZmlsZQ%3D%3D?line=4'>5</a>\u001b[0m     \u001b[39m# Split document in chunks\u001b[39;00m\n",
      "File \u001b[1;32mc:\\Users\\DELL\\AppData\\Local\\Programs\\Python\\Python310\\lib\\site-packages\\langchain\\document_loaders\\pdf.py:110\u001b[0m, in \u001b[0;36mPyPDFLoader.__init__\u001b[1;34m(self, file_path, password)\u001b[0m\n\u001b[0;32m    108\u001b[0m     \u001b[39mimport\u001b[39;00m \u001b[39mpypdf\u001b[39;00m  \u001b[39m# noqa:F401\u001b[39;00m\n\u001b[0;32m    109\u001b[0m \u001b[39mexcept\u001b[39;00m \u001b[39mImportError\u001b[39;00m:\n\u001b[1;32m--> 110\u001b[0m     \u001b[39mraise\u001b[39;00m \u001b[39mImportError\u001b[39;00m(\n\u001b[0;32m    111\u001b[0m         \u001b[39m\"\u001b[39m\u001b[39mpypdf package not found, please install it with \u001b[39m\u001b[39m\"\u001b[39m \u001b[39m\"\u001b[39m\u001b[39m`pip install pypdf`\u001b[39m\u001b[39m\"\u001b[39m\n\u001b[0;32m    112\u001b[0m     )\n\u001b[0;32m    113\u001b[0m \u001b[39mself\u001b[39m\u001b[39m.\u001b[39mparser \u001b[39m=\u001b[39m PyPDFParser(password\u001b[39m=\u001b[39mpassword)\n\u001b[0;32m    114\u001b[0m \u001b[39msuper\u001b[39m()\u001b[39m.\u001b[39m\u001b[39m__init__\u001b[39m(file_path)\n",
      "\u001b[1;31mImportError\u001b[0m: pypdf package not found, please install it with `pip install pypdf`"
     ]
    }
   ],
   "source": [
    "main()"
   ]
  },
  {
   "cell_type": "code",
   "execution_count": null,
   "metadata": {},
   "outputs": [],
   "source": []
  }
 ],
 "metadata": {
  "kernelspec": {
   "display_name": "Python 3",
   "language": "python",
   "name": "python3"
  },
  "language_info": {
   "codemirror_mode": {
    "name": "ipython",
    "version": 3
   },
   "file_extension": ".py",
   "mimetype": "text/x-python",
   "name": "python",
   "nbconvert_exporter": "python",
   "pygments_lexer": "ipython3",
   "version": "3.10.2"
  }
 },
 "nbformat": 4,
 "nbformat_minor": 2
}
